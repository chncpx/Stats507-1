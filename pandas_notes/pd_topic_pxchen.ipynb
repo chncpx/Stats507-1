{
 "cells": [
  {
   "cell_type": "markdown",
   "id": "15f617bb",
   "metadata": {},
   "source": [
    "## Name: Panxi Chen (pxchen)  \n",
    "## email: pxchen@umich.edu  \n",
    "\n",
    "### PS4 - Question 0 - Topics in Pandas"
   ]
  },
  {
   "cell_type": "code",
   "execution_count": 1,
   "id": "4ab9e419",
   "metadata": {},
   "outputs": [],
   "source": [
    "# Module imports\n",
    "import pandas as pd\n",
    "import numpy as np\n",
    "from datetime import *\n",
    "from IPython.core.display import display, HTML"
   ]
  },
  {
   "cell_type": "markdown",
   "id": "339ca06c",
   "metadata": {},
   "source": [
    "## Timedeltas\n",
    "### Overview\n",
    "- Using Timedeltas\n",
    "- Filter data with Timedelta\n",
    "    - Example - number of homework\n",
    "- Example - age\n",
    "- Arithmetic operation\n",
    "- Example - Arithmetic Operation"
   ]
  },
  {
   "cell_type": "markdown",
   "id": "33f8ec12",
   "metadata": {},
   "source": [
    "## Timedeltas\n",
    "- Timedeltas is a type that shows the difference between values of date times. For instance, the difference between years, months, days, hours, minutes, seconds, even milliseconds, and so on. Also, the result will give in the Timedelta type.\n",
    "- the form of the datetime is not restricted. It can be either mm-dd-yyyy or yyyy-mm-dd, \"-\" or \"/\".  \n",
    "- if we do not assign month or year, then it will have default value 1, which is first day and January."
   ]
  },
  {
   "cell_type": "code",
   "execution_count": 2,
   "id": "c1610f6d",
   "metadata": {},
   "outputs": [
    {
     "name": "stdout",
     "output_type": "stream",
     "text": [
      "1 days 07:45:30\n"
     ]
    }
   ],
   "source": [
    "# Construct Timedelta by string\n",
    "td0 = pd.Timedelta('1 days 7 hours 45 minutes 30 seconds')\n",
    "print(td0)"
   ]
  },
  {
   "cell_type": "code",
   "execution_count": 3,
   "id": "75fe89e2",
   "metadata": {},
   "outputs": [
    {
     "name": "stdout",
     "output_type": "stream",
     "text": [
      "The frequence is  0 days 00:15:00\n"
     ]
    }
   ],
   "source": [
    "td2 = pd.date_range('2020-01-24', periods=7, freq='15min')\n",
    "print(\"The frequence is \", pd.to_timedelta(td2.freq))"
   ]
  },
  {
   "cell_type": "code",
   "execution_count": 4,
   "id": "fc98c70a",
   "metadata": {},
   "outputs": [
    {
     "name": "stdout",
     "output_type": "stream",
     "text": [
      "seconds: 1800 s\n",
      "period: 8 days 02:26:40\n"
     ]
    }
   ],
   "source": [
    "# Construct Timedelta\n",
    "to_td = pd.to_timedelta('30min')\n",
    "\n",
    "# transform from minutes to seconds\n",
    "td_second = to_td.total_seconds()\n",
    "\n",
    "# transform from seconds to time\n",
    "td_period = str(pd.Timedelta(seconds=700000))\n",
    "\n",
    "# print results\n",
    "print(\"seconds:\", int(td_second), \"s\")\n",
    "print(\"period:\", td_period)"
   ]
  },
  {
   "cell_type": "code",
   "execution_count": 5,
   "id": "95c2e6e4",
   "metadata": {},
   "outputs": [
    {
     "name": "stdout",
     "output_type": "stream",
     "text": [
      "datetime in mm-dd-yyyy with assigned date: 240 days 00:00:00\n",
      "datetime in yyyy-mm-dd with assigned year and month: 723 days 00:00:00\n",
      "datetime in yyyy-mm-dd with assigned year: 723 days 00:00:00\n",
      "datetime in yyyy-mm-dd with assigned date on Jan. 1st: 723 days 00:00:00\n"
     ]
    }
   ],
   "source": [
    "td_mdy = pd.to_datetime('8-18-2021') - pd.to_datetime('12-21-2020')\n",
    "\n",
    "td_n = pd.to_datetime('2020-12-24') - pd.to_datetime('2019')\n",
    "td_ny = pd.to_datetime('2020-12-24') - pd.to_datetime('2019-1')\n",
    "td_nyr = pd.to_datetime('2020/12/24') - pd.to_datetime('2019-1-1')\n",
    "\n",
    "print(\"datetime in mm-dd-yyyy with assigned date:\", td_mdy)\n",
    "print(\"datetime in yyyy-mm-dd with assigned year and month:\", td_ny)\n",
    "print(\"datetime in yyyy-mm-dd with assigned year:\", td_n)\n",
    "print(\"datetime in yyyy-mm-dd with assigned date on Jan. 1st:\", td_n)"
   ]
  },
  {
   "cell_type": "markdown",
   "id": "1092686a",
   "metadata": {},
   "source": [
    "## Filter data with Timedelta\n",
    "- We can use Timedelta to filter the date data to obtain the results we need."
   ]
  },
  {
   "cell_type": "markdown",
   "id": "ef7be238",
   "metadata": {},
   "source": [
    "## Example - number of homework\n",
    "- In following example, we are going to figure out the number of homework that will due in a week.\n",
    "- From the dataframe df_dues, we could see from index 1 to 3, the homework is closed."
   ]
  },
  {
   "cell_type": "code",
   "execution_count": 6,
   "id": "5847bc8a",
   "metadata": {},
   "outputs": [
    {
     "data": {
      "text/html": [
       "<table border=\"1\" class=\"dataframe\">\n",
       "  <thead>\n",
       "    <tr style=\"text-align: right;\">\n",
       "      <th></th>\n",
       "      <th>due_date</th>\n",
       "      <th>hw_number</th>\n",
       "    </tr>\n",
       "  </thead>\n",
       "  <tbody>\n",
       "    <tr>\n",
       "      <th>1</th>\n",
       "      <td>2021/10/07</td>\n",
       "      <td>3</td>\n",
       "    </tr>\n",
       "    <tr>\n",
       "      <th>2</th>\n",
       "      <td>2021/10/11</td>\n",
       "      <td>1</td>\n",
       "    </tr>\n",
       "    <tr>\n",
       "      <th>3</th>\n",
       "      <td>2021/10/22</td>\n",
       "      <td>2</td>\n",
       "    </tr>\n",
       "    <tr>\n",
       "      <th>4</th>\n",
       "      <td>2021/10/24</td>\n",
       "      <td>5</td>\n",
       "    </tr>\n",
       "    <tr>\n",
       "      <th>5</th>\n",
       "      <td>2021/10/27</td>\n",
       "      <td>4</td>\n",
       "    </tr>\n",
       "    <tr>\n",
       "      <th>6</th>\n",
       "      <td>2021/10/31</td>\n",
       "      <td>2</td>\n",
       "    </tr>\n",
       "  </tbody>\n",
       "</table>"
      ],
      "text/plain": [
       "<IPython.core.display.HTML object>"
      ]
     },
     "metadata": {},
     "output_type": "display_data"
    }
   ],
   "source": [
    "dues = {'due_date': ['2021/10/07', '2021/10/11', \n",
    "                     '2021/10/22', '2021/10/24', \n",
    "                     '2021/10/27', '2021/10/31',], \n",
    "        'hw_number': [3, 1, 2, 5, 4, 2]}\n",
    "df = pd.DataFrame(dues, index=[1, 2, 3, 4, 5, 6])\n",
    "display(HTML(df.to_html()))"
   ]
  },
  {
   "cell_type": "code",
   "execution_count": 7,
   "id": "7c9a714b",
   "metadata": {},
   "outputs": [
    {
     "data": {
      "text/html": [
       "<table border=\"1\" class=\"dataframe\">\n",
       "  <thead>\n",
       "    <tr style=\"text-align: right;\">\n",
       "      <th>due_date</th>\n",
       "      <th>hw_number</th>\n",
       "    </tr>\n",
       "  </thead>\n",
       "  <tbody>\n",
       "    <tr>\n",
       "      <td>2021-10-24</td>\n",
       "      <td>5</td>\n",
       "    </tr>\n",
       "    <tr>\n",
       "      <td>2021-10-27</td>\n",
       "      <td>4</td>\n",
       "    </tr>\n",
       "  </tbody>\n",
       "</table>"
      ],
      "text/plain": [
       "<IPython.core.display.HTML object>"
      ]
     },
     "metadata": {},
     "output_type": "display_data"
    },
    {
     "name": "stdout",
     "output_type": "stream",
     "text": [
      "9 homework needs to be finished in one week.\n"
     ]
    }
   ],
   "source": [
    "df['due_date'] = pd.to_datetime(df['due_date'])\n",
    "df = df[(df['due_date'] - datetime.now()) > pd.Timedelta(days=0)]\n",
    "df = df[(df['due_date'] - datetime.now()) < pd.Timedelta(days=7)]\n",
    "display(HTML(df.to_html(index=False)))\n",
    "print(df['hw_number'].sum(), \"homework needs to be finished in one week.\")"
   ]
  },
  {
   "cell_type": "markdown",
   "id": "5d133ed2",
   "metadata": {},
   "source": [
    "## Example - age\n",
    "- We could apply Timedelta to calculate the age of a person given his birth date.\n",
    "- In this example, we use Timedelta to find the age for someone born on 06/27/1998."
   ]
  },
  {
   "cell_type": "code",
   "execution_count": 8,
   "id": "f6e57dce",
   "metadata": {},
   "outputs": [
    {
     "name": "stdout",
     "output_type": "stream",
     "text": [
      "age: 23\n"
     ]
    }
   ],
   "source": [
    "age = int((datetime.now() \n",
    "           - pd.to_datetime('6-27-1998')) \n",
    "          / pd.Timedelta(days=365))\n",
    "print(\"age:\", age)"
   ]
  },
  {
   "cell_type": "markdown",
   "id": "e717f7e7",
   "metadata": {},
   "source": [
    "## Arithmetic Operation\n",
    "- This example shows the arithmetic operation of Timedelta. Also, a time series is constructed further on the basis of Timedelta."
   ]
  },
  {
   "cell_type": "markdown",
   "id": "dfb56b16",
   "metadata": {},
   "source": [
    "## Example - Arithmetic Operation"
   ]
  },
  {
   "cell_type": "code",
   "execution_count": 9,
   "id": "a22de3e6",
   "metadata": {},
   "outputs": [
    {
     "name": "stdout",
     "output_type": "stream",
     "text": [
      "Time period from 2021-09-07 00:00:00 to 2021-10-19 00:00:00\n"
     ]
    }
   ],
   "source": [
    "time = pd.date_range(start='2021-9-7', periods=7, freq='7D')\n",
    "print(\"Time period from {} to {}\".format(time.min(), time.max()))"
   ]
  },
  {
   "cell_type": "code",
   "execution_count": 10,
   "id": "2a4bdeb8",
   "metadata": {},
   "outputs": [
    {
     "name": "stdout",
     "output_type": "stream",
     "text": [
      "Addition:  DatetimeIndex(['2021-09-07 00:05:00', '2021-09-14 00:05:00',\n",
      "               '2021-09-21 00:05:00', '2021-09-28 00:05:00',\n",
      "               '2021-10-05 00:05:00', '2021-10-12 00:05:00',\n",
      "               '2021-10-19 00:05:00'],\n",
      "              dtype='datetime64[ns]', freq='7D')\n",
      "Subtraction:  TimedeltaIndex(['594 days 20:55:00', '601 days 20:55:00', '608 days 20:55:00',\n",
      "                '615 days 20:55:00', '622 days 20:55:00', '629 days 20:55:00',\n",
      "                '636 days 20:55:00'],\n",
      "               dtype='timedelta64[ns]', freq=None)\n"
     ]
    }
   ],
   "source": [
    "# add 5 minutes\n",
    "time_plus = time + pd.Timedelta(minutes=5)\n",
    "\n",
    "# subtract datetime(year, month, day, hour, minute)\n",
    "time_minus = time - datetime(2020, 1, 21, 3, 5)\n",
    "\n",
    "#print results\n",
    "print(\"Addition: \", time_plus)\n",
    "print(\"Subtraction: \", time_minus)"
   ]
  },
  {
   "cell_type": "code",
   "execution_count": 11,
   "id": "b911388a",
   "metadata": {},
   "outputs": [
    {
     "data": {
      "text/html": [
       "<table border=\"1\" class=\"dataframe\">\n",
       "  <thead>\n",
       "    <tr style=\"text-align: right;\">\n",
       "      <th></th>\n",
       "      <th>date</th>\n",
       "      <th>period</th>\n",
       "      <th>addition</th>\n",
       "      <th>subtraction</th>\n",
       "    </tr>\n",
       "  </thead>\n",
       "  <tbody>\n",
       "    <tr>\n",
       "      <th>0</th>\n",
       "      <td>2021-09-07</td>\n",
       "      <td>3 days</td>\n",
       "      <td>2021-09-04</td>\n",
       "      <td>2021-09-04</td>\n",
       "    </tr>\n",
       "    <tr>\n",
       "      <th>1</th>\n",
       "      <td>2021-09-14</td>\n",
       "      <td>6 days</td>\n",
       "      <td>2021-09-08</td>\n",
       "      <td>2021-09-08</td>\n",
       "    </tr>\n",
       "    <tr>\n",
       "      <th>2</th>\n",
       "      <td>2021-09-21</td>\n",
       "      <td>9 days</td>\n",
       "      <td>2021-09-12</td>\n",
       "      <td>2021-09-12</td>\n",
       "    </tr>\n",
       "    <tr>\n",
       "      <th>3</th>\n",
       "      <td>2021-09-28</td>\n",
       "      <td>12 days</td>\n",
       "      <td>2021-09-16</td>\n",
       "      <td>2021-09-16</td>\n",
       "    </tr>\n",
       "    <tr>\n",
       "      <th>4</th>\n",
       "      <td>2021-10-05</td>\n",
       "      <td>15 days</td>\n",
       "      <td>2021-09-20</td>\n",
       "      <td>2021-09-20</td>\n",
       "    </tr>\n",
       "    <tr>\n",
       "      <th>5</th>\n",
       "      <td>2021-10-12</td>\n",
       "      <td>18 days</td>\n",
       "      <td>2021-09-24</td>\n",
       "      <td>2021-09-24</td>\n",
       "    </tr>\n",
       "    <tr>\n",
       "      <th>6</th>\n",
       "      <td>2021-10-19</td>\n",
       "      <td>21 days</td>\n",
       "      <td>2021-09-28</td>\n",
       "      <td>2021-09-28</td>\n",
       "    </tr>\n",
       "  </tbody>\n",
       "</table>"
      ],
      "text/plain": [
       "<IPython.core.display.HTML object>"
      ]
     },
     "metadata": {},
     "output_type": "display_data"
    }
   ],
   "source": [
    "td1 = pd.Series([pd.Timedelta(days=3*(i+1)) for i in range(7)])\n",
    "df1 = pd.DataFrame(dict(date=time, period=td1))\n",
    "\n",
    "# operations\n",
    "df1['addition']=df1['date'] - df1['period']\n",
    "df1['subtraction']=df1['date'] - df1['period']\n",
    "display(HTML(pd.DataFrame(df1).to_html()))"
   ]
  },
  {
   "cell_type": "code",
   "execution_count": 12,
   "id": "7cbb9771",
   "metadata": {},
   "outputs": [
    {
     "name": "stdout",
     "output_type": "stream",
     "text": [
      "Time seris (Oct. 5th): 0.10688166956118826\n"
     ]
    },
    {
     "data": {
      "text/html": [
       "<table border=\"1\" class=\"dataframe\">\n",
       "  <thead>\n",
       "    <tr style=\"text-align: right;\">\n",
       "      <th></th>\n",
       "      <th>0</th>\n",
       "    </tr>\n",
       "  </thead>\n",
       "  <tbody>\n",
       "    <tr>\n",
       "      <th>2021-09-07</th>\n",
       "      <td>1.345578</td>\n",
       "    </tr>\n",
       "    <tr>\n",
       "      <th>2021-09-14</th>\n",
       "      <td>-0.478311</td>\n",
       "    </tr>\n",
       "    <tr>\n",
       "      <th>2021-09-21</th>\n",
       "      <td>-0.972888</td>\n",
       "    </tr>\n",
       "    <tr>\n",
       "      <th>2021-09-28</th>\n",
       "      <td>0.024617</td>\n",
       "    </tr>\n",
       "    <tr>\n",
       "      <th>2021-10-05</th>\n",
       "      <td>0.106882</td>\n",
       "    </tr>\n",
       "    <tr>\n",
       "      <th>2021-10-12</th>\n",
       "      <td>0.502593</td>\n",
       "    </tr>\n",
       "    <tr>\n",
       "      <th>2021-10-19</th>\n",
       "      <td>-0.082420</td>\n",
       "    </tr>\n",
       "  </tbody>\n",
       "</table>"
      ],
      "text/plain": [
       "<IPython.core.display.HTML object>"
      ]
     },
     "metadata": {},
     "output_type": "display_data"
    }
   ],
   "source": [
    "# Construct Time Series\n",
    "ts1 = pd.Series(np.random.randn(7), index=time)\n",
    "print('Time seris (Oct. 5th):', ts1['2021-10-05'])\n",
    "display(HTML(pd.DataFrame(ts1).to_html()))"
   ]
  }
 ],
 "metadata": {
  "kernelspec": {
   "display_name": "Python 3",
   "language": "python",
   "name": "python3"
  },
  "language_info": {
   "codemirror_mode": {
    "name": "ipython",
    "version": 3
   },
   "file_extension": ".py",
   "mimetype": "text/x-python",
   "name": "python",
   "nbconvert_exporter": "python",
   "pygments_lexer": "ipython3",
   "version": "3.8.8"
  }
 },
 "nbformat": 4,
 "nbformat_minor": 5
}

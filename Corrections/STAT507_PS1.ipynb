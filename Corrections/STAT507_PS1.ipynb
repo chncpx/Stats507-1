{
 "cells": [
  {
   "cell_type": "markdown",
   "metadata": {},
   "source": [
    "## Statistics 507, Fall 2021 - Problem Set 1\n",
    "Name: Panxi Chen  "
   ]
  },
  {
   "cell_type": "markdown",
   "metadata": {},
   "source": [
    "## GSI comments from Canvas\n",
    "- -10 for 10 functions w/o a docstring (up to -10)\n",
    "- Q0: -3 for don't provide both raw and formatted versions\n",
    "- Q1: -1 for units aren't clear"
   ]
  },
  {
   "cell_type": "code",
   "execution_count": 1,
   "metadata": {},
   "outputs": [],
   "source": [
    "import numpy as np\n",
    "from math import *\n",
    "import time\n",
    "import pandas as pd\n",
    "from scipy.stats import beta\n",
    "from IPython.core.display import display, HTML"
   ]
  },
  {
   "cell_type": "markdown",
   "metadata": {},
   "source": [
    "## Question 0 - Markdown warmup [10 points]"
   ]
  },
  {
   "cell_type": "markdown",
   "metadata": {},
   "source": [
    "Use markdown syntax to *exactly* reproduce the text below. In your paired notebook and script, in addition to regular (formatted) markdown, include the “raw” markdown by writing it between code fences “```”. Use markdown and $LaTeX$ only, no raw HTML. The code to be reproduced appears between horizontal rules – include these in your solution.\n",
    "***"
   ]
  },
  {
   "cell_type": "markdown",
   "metadata": {},
   "source": [
    "This is *question 0* for [problem set 1](https://jbhender.github.io/Stats507/F21/ps1.html) of [Stats 507](https://jbhender.github.io/Stats507/F21/)."
   ]
  },
  {
   "cell_type": "markdown",
   "metadata": {},
   "source": [
    ">### Question 0 is about Markdown.\n",
    "\n",
    "<!-- ><font size=4>Question 0 is about Markdown.</font> -->\n",
    "\n",
    "<!-- ><font color=grey size=4 face=Arial>**Question 0 is about Markdown.**</font> -->"
   ]
  },
  {
   "cell_type": "markdown",
   "metadata": {},
   "source": [
    "The next question is about the **Fibonnaci sequence**, $F_n=F_{n−2}+F_{n−1}$. In part **a** we will define a Python function `fib_rec()`.  \n",
    "Below is a …"
   ]
  },
  {
   "cell_type": "markdown",
   "metadata": {},
   "source": [
    "### Level 3 Header"
   ]
  },
  {
   "cell_type": "markdown",
   "metadata": {},
   "source": [
    "Next, we can make a bulleted list:"
   ]
  },
  {
   "cell_type": "markdown",
   "metadata": {},
   "source": [
    "- Item 1\n",
    "    - detail 1\n",
    "    - detail 2\n",
    "- Item 2"
   ]
  },
  {
   "cell_type": "markdown",
   "metadata": {},
   "source": [
    "Finally, we can make an enumerated list:"
   ]
  },
  {
   "cell_type": "markdown",
   "metadata": {},
   "source": [
    "<!-- 1. Item 1\n",
    "1. Item 2\n",
    "1. Item 3 -->\n",
    "\n",
    "<ol style=\"list-style-type: lower-alpha;\">\n",
    "  <li>Item 1</li>\n",
    "  <li>Item 2</li>\n",
    "  <li>Item 3</li>\n",
    "</ol>\n",
    "\n",
    "\n",
    "<!-- 1. Item 1\n",
    "1. Item 2\n",
    "1. Item 3\n",
    "\n",
    "\n",
    "    a. Item 1\n",
    "    b. Item 2\n",
    "    c. Item 3\n",
    "\n",
    "\n",
    "a. Item 1 <br />\n",
    "b. Item 2 <br />\n",
    "c. Item 3 <br /> -->"
   ]
  },
  {
   "cell_type": "markdown",
   "metadata": {},
   "source": [
    "```\n",
    "\n",
    "This is *question 0* for [problem set 1](https://jbhender.github.io/Stats507/F21/ps1.html) of [Stats 507](https://jbhender.github.io/Stats507/F21/).\n",
    "\n",
    ">### Question 0 is about Markdown.\n",
    "\n",
    "The next question is about the **Fibonnaci sequence**, $F_n=F_{n−2}+F_{n−1}$. In part **a** we will define a Python function `fib_rec()`.  \n",
    "Below is a …\n",
    "\n",
    "### Level 3 Header\n",
    "\n",
    "Next, we can make a bulleted list:\n",
    "\n",
    "- Item 1\n",
    "    - detail 1\n",
    "    - detail 2\n",
    "- Item 2\n",
    "\n",
    "Finally, we can make an enumerated list:\n",
    "\n",
    "1. Item 1\n",
    "1. Item 2\n",
    "1. Item 3\n",
    "\n",
    "```"
   ]
  },
  {
   "cell_type": "markdown",
   "metadata": {},
   "source": [
    "## Question 1 - Fibonnaci Sequence [30]"
   ]
  },
  {
   "cell_type": "markdown",
   "metadata": {},
   "source": [
    "<p>The <a href=\"https://en.wikipedia.org/wiki/Fibonacci_number\">Fibonnaci seuqence</a> <span class=\"math inline\">\\(F_n\\)</span> begins with the numbers <span class=\"math inline\">\\(0, 1, 1, ...\\)</span> and continues so that each entry is the sum of adding its two immediate predecessors. The sequence can be defined as follows,</p>\n",
    "<p><span class=\"math display\">\\[\n",
    "F_n = F_{n-2} + F_{n-1}, \\qquad \\textrm{with}\\qquad F_0 = 0, F_1 = 1. \n",
    "\\]</span></p>\n",
    "<p>A common question in code interviews asks the interviewee to sketch a program generating Fibonnaci numbers at a board. In this quesiton, you will write and compare several such programs. After each function definition, write a test to ensure your function returns the following values: <span class=\"math inline\">\\(F_{7} = 13\\)</span>, <span class=\"math inline\">\\(F_{11} = 89\\)</span>, and <span class=\"math inline\">\\(F_{13} = 233\\)</span>.</p>\n",
    "<ol style=\"list-style-type: lower-alpha\">"
   ]
  },
  {
   "cell_type": "markdown",
   "metadata": {},
   "source": [
    "a. Write a recursive function `fib_rec()` that takes input `n`, `a=0`, and `b=1` and returns the value of $F_n$ for `F_0 = a`, and `F_1 = b`. [You can call `a` and `b` something else, e.g. `f0` and `f1` or collect them in a list/tuple if you prefer.]"
   ]
  },
  {
   "cell_type": "code",
   "execution_count": 2,
   "metadata": {},
   "outputs": [
    {
     "name": "stdout",
     "output_type": "stream",
     "text": [
      "F7 = 13\n",
      "F11 = 89\n",
      "F13 = 233\n"
     ]
    }
   ],
   "source": [
    "# a. Write a recursive function fib_rec() that takes a single input n and returns the value of Fn.\n",
    "def fib_rec(n):\n",
    "    \"\"\"\n",
    "    This function computes value of Fn by recursion. \n",
    "\n",
    "    Parameters\n",
    "    ----------\n",
    "    n : int\n",
    "        The place of which Fibonacci number to compute.\n",
    "\n",
    "     Returns\n",
    "     -------\n",
    "     Value of nth Fibonacci number Fn.\n",
    "\n",
    "    \"\"\"\n",
    "    if n == 0 or n == 1:\n",
    "        return n\n",
    "    else:\n",
    "        return fib_rec(n-2) + fib_rec(n-1)\n",
    "    \n",
    "print(\"F7 = \" + str(fib_rec(7)) + \"\\nF11 = \" + str(fib_rec(11)) + \"\\nF13 = \" + str(fib_rec(13)))"
   ]
  },
  {
   "cell_type": "markdown",
   "metadata": {},
   "source": [
    "b. Write a function `fib_for()` with the same signature that computes $F_n$ by summation using a `for` loop."
   ]
  },
  {
   "cell_type": "code",
   "execution_count": 3,
   "metadata": {},
   "outputs": [
    {
     "name": "stdout",
     "output_type": "stream",
     "text": [
      "F7 = 13\n",
      "F11 = 89\n",
      "F13 = 233\n"
     ]
    }
   ],
   "source": [
    "# b. Write a function fib_for() with the same signature that computes Fn by summation using a for loop.\n",
    "def fib_for(n):\n",
    "    \"\"\"\n",
    "    This function computes value of Fn by for loop. \n",
    "\n",
    "    Parameters\n",
    "    ----------\n",
    "    n : int\n",
    "        The place of which Fibonacci number to compute.\n",
    "\n",
    "     Returns\n",
    "     -------\n",
    "     Value of nth Fibonacci number Fn.\n",
    "\n",
    "    \"\"\"\n",
    "    if n == 0 or n == 1:\n",
    "        return n\n",
    "    f_list = []\n",
    "    f_list.append(0)\n",
    "    f_list.append(1)\n",
    "    for i in range(2, n+1):\n",
    "        f_list.append(f_list[i-1] + f_list[i-2])\n",
    "    return f_list[-1]\n",
    "\n",
    "print(\"F7 = \" + str(fib_for(7)) + \"\\nF11 = \" + str(fib_for(11)) + \"\\nF13 = \" + str(fib_for(13)))"
   ]
  },
  {
   "cell_type": "markdown",
   "metadata": {},
   "source": [
    "c. Write a function `fib_whl()` with the same signature that computes $F_n$ by summation using a `while` loop."
   ]
  },
  {
   "cell_type": "code",
   "execution_count": 4,
   "metadata": {},
   "outputs": [
    {
     "name": "stdout",
     "output_type": "stream",
     "text": [
      "F7 = 13\n",
      "F11 = 89\n",
      "F13 = 233\n"
     ]
    }
   ],
   "source": [
    "# c. Write a function fib_whl() with the same signature that computes Fn by summation using a while loop.\n",
    "# import numpy as np\n",
    "\n",
    "def fib_whl(n):\n",
    "    \"\"\"\n",
    "    This function computes value of Fn by while loop. \n",
    "\n",
    "    Parameters\n",
    "    ----------\n",
    "    n : int\n",
    "        The place of which Fibonacci number to compute.\n",
    "\n",
    "     Returns\n",
    "     -------\n",
    "     Value of nth Fibonacci number Fn.\n",
    "\n",
    "    \"\"\"\n",
    "    if n == 0 or n == 1:\n",
    "        return n\n",
    "    f_list = np.zeros(n+1)\n",
    "    f_list[0] = 0\n",
    "    f_list[1] = 1\n",
    "    i = 2\n",
    "    while i <= n:\n",
    "        f_list[i] = f_list[i-1] + f_list[i-2]\n",
    "        i+=1\n",
    "    return int(f_list[-1])\n",
    "\n",
    "print(\"F7 = \" + str(fib_whl(7)) + \"\\nF11 = \" + str(fib_whl(11)) + \"\\nF13 = \" + str(fib_whl(13)))"
   ]
  },
  {
   "cell_type": "markdown",
   "metadata": {},
   "source": [
    "d. Write a function `fib_rnd()` with the same signature that computes $F_n$ using the rounding method described on the Wikipedia page linked above."
   ]
  },
  {
   "cell_type": "code",
   "execution_count": 5,
   "metadata": {},
   "outputs": [
    {
     "name": "stdout",
     "output_type": "stream",
     "text": [
      "F7 = 13\n",
      "F11 = 89\n",
      "F13 = 233\n"
     ]
    }
   ],
   "source": [
    "# d. Write a function fib_rnd() with the same signature that computes Fn using the rounding method.\n",
    "# from math import *\n",
    "\n",
    "def fib_rnd(n):\n",
    "    \"\"\"\n",
    "    This function computes value of Fn by rounding method. \n",
    "\n",
    "    Parameters\n",
    "    ----------\n",
    "    n : int\n",
    "        The place of which Fibonacci number to compute.\n",
    "\n",
    "     Returns\n",
    "     -------\n",
    "     Value of nth Fibonacci number Fn.\n",
    "\n",
    "    \"\"\"\n",
    "    if n == 0 or n == 1:\n",
    "        return n\n",
    "    f_list = []\n",
    "    f_list.append(0)\n",
    "    f_list.append(1)\n",
    "    # psi = (1 + sqrt(5))/ 2\n",
    "    # psi = 1.618\n",
    "    psi = 0\n",
    "    for i in range(2, n+1):\n",
    "        f_list.append(f_list[i-1] + f_list[i-2])\n",
    "        psi = f_list[i]/f_list[i-1]\n",
    "    return round(psi**n / sqrt(5))\n",
    "\n",
    "print(\"F7 = \" + str(fib_rnd(7)) + \"\\nF11 = \" + str(fib_rnd(11)) + \"\\nF13 = \" + str(fib_rnd(13)))"
   ]
  },
  {
   "cell_type": "markdown",
   "metadata": {
    "scrolled": true
   },
   "source": [
    "e. Write a function `fib_flr()` with the same signature that computes $F_n$ using the truncation method described on the Wikipedia page linked above."
   ]
  },
  {
   "cell_type": "code",
   "execution_count": 6,
   "metadata": {},
   "outputs": [
    {
     "name": "stdout",
     "output_type": "stream",
     "text": [
      "F7 = 13\n",
      "F11 = 89\n",
      "F13 = 233\n"
     ]
    }
   ],
   "source": [
    "# e. Write a function fib_flr() with the same signature that computes Fn using the truncation method.\n",
    "# from math import *\n",
    "\n",
    "def fib_flr(n):\n",
    "    \"\"\"\n",
    "    This function computes value of Fn by truncation method. \n",
    "\n",
    "    Parameters\n",
    "    ----------\n",
    "    n : int\n",
    "        The place of which Fibonacci number to compute.\n",
    "\n",
    "     Returns\n",
    "     -------\n",
    "     Value of nth Fibonacci number Fn.\n",
    "\n",
    "    \"\"\"\n",
    "    if n == 0 or n == 1:\n",
    "        return n\n",
    "    f_list = []\n",
    "    f_list.append(0)\n",
    "    f_list.append(1)\n",
    "    # psi = (1 + math.sqrt(5))/ 2\n",
    "    # psi = 1.618\n",
    "    psi = 0\n",
    "    for i in range(2, n+1):\n",
    "        f_list.append(f_list[i-1] + f_list[i-2])\n",
    "        psi = f_list[i]/f_list[i-1]\n",
    "    return floor(psi**n / sqrt(5) + 1/2)\n",
    "\n",
    "print(\"F7 = \" + str(fib_flr(7)) + \"\\nF11 = \" + str(fib_flr(11)) + \"\\nF13 = \" + str(fib_flr(13)))"
   ]
  },
  {
   "cell_type": "markdown",
   "metadata": {},
   "source": [
    "f. For a sequence of increasingly large values of `n` compare the median computation time of each of the functions above. Present your results in a nicely formatted table. (Point estimates are sufficient)."
   ]
  },
  {
   "cell_type": "code",
   "execution_count": 7,
   "metadata": {},
   "outputs": [
    {
     "name": "stdout",
     "output_type": "stream",
     "text": [
      "Value n: 40\n",
      "Value trial: 5\n",
      "Measure sequence of n [0, 5, 10, 15, 20, 25, 30, 35, 40] for 5 times\n",
      "\n",
      "Formatted Table \n",
      "of median computation time of each of the functions (in ms) \n",
      "for a sequence of increasingly large values of n [0, 5, 10, 15, 20, 25, 30, 35, 40]:\n",
      "\n"
     ]
    },
    {
     "data": {
      "text/html": [
       "<table border=\"1\" class=\"dataframe\">\n",
       "  <thead>\n",
       "    <tr style=\"text-align: right;\">\n",
       "      <th></th>\n",
       "      <th>a. recursive function</th>\n",
       "      <th>b. for loop</th>\n",
       "      <th>c. while loop</th>\n",
       "      <th>d. rounding method</th>\n",
       "      <th>e. truncation method</th>\n",
       "    </tr>\n",
       "  </thead>\n",
       "  <tbody>\n",
       "    <tr>\n",
       "      <th>0</th>\n",
       "      <td>0.000000</td>\n",
       "      <td>0.0</td>\n",
       "      <td>0.0</td>\n",
       "      <td>0.0</td>\n",
       "      <td>0.0</td>\n",
       "    </tr>\n",
       "    <tr>\n",
       "      <th>5</th>\n",
       "      <td>0.000000</td>\n",
       "      <td>0.0</td>\n",
       "      <td>0.0</td>\n",
       "      <td>0.0</td>\n",
       "      <td>0.0</td>\n",
       "    </tr>\n",
       "    <tr>\n",
       "      <th>10</th>\n",
       "      <td>0.000000</td>\n",
       "      <td>0.0</td>\n",
       "      <td>0.0</td>\n",
       "      <td>0.0</td>\n",
       "      <td>0.0</td>\n",
       "    </tr>\n",
       "    <tr>\n",
       "      <th>15</th>\n",
       "      <td>0.000000</td>\n",
       "      <td>0.0</td>\n",
       "      <td>0.0</td>\n",
       "      <td>0.0</td>\n",
       "      <td>0.0</td>\n",
       "    </tr>\n",
       "    <tr>\n",
       "      <th>20</th>\n",
       "      <td>2.988100</td>\n",
       "      <td>0.0</td>\n",
       "      <td>0.0</td>\n",
       "      <td>0.0</td>\n",
       "      <td>0.0</td>\n",
       "    </tr>\n",
       "    <tr>\n",
       "      <th>25</th>\n",
       "      <td>31.914473</td>\n",
       "      <td>0.0</td>\n",
       "      <td>0.0</td>\n",
       "      <td>0.0</td>\n",
       "      <td>0.0</td>\n",
       "    </tr>\n",
       "    <tr>\n",
       "      <th>30</th>\n",
       "      <td>366.108418</td>\n",
       "      <td>0.0</td>\n",
       "      <td>0.0</td>\n",
       "      <td>0.0</td>\n",
       "      <td>0.0</td>\n",
       "    </tr>\n",
       "    <tr>\n",
       "      <th>35</th>\n",
       "      <td>4103.759289</td>\n",
       "      <td>0.0</td>\n",
       "      <td>0.0</td>\n",
       "      <td>0.0</td>\n",
       "      <td>0.0</td>\n",
       "    </tr>\n",
       "    <tr>\n",
       "      <th>40</th>\n",
       "      <td>46882.918596</td>\n",
       "      <td>0.0</td>\n",
       "      <td>0.0</td>\n",
       "      <td>0.0</td>\n",
       "      <td>0.0</td>\n",
       "    </tr>\n",
       "  </tbody>\n",
       "</table>"
      ],
      "text/plain": [
       "<IPython.core.display.HTML object>"
      ]
     },
     "metadata": {},
     "output_type": "display_data"
    }
   ],
   "source": [
    "# f. For a sequence of increasingly large values of n compare the median computation time of each of the functions above.\n",
    "# Present your results in a nicely formatted table. (Point estimates are sufficient).\n",
    "\n",
    "# Create a sequence of increasingly large values of n\n",
    "n = eval(input(\"Value n: \"))\n",
    "n_list = []\n",
    "for i in range(0, n+1, 5):\n",
    "    n_list.append(i)\n",
    "\n",
    "# Input the number of measure time\n",
    "trial = eval(input(\"Value trial: \"))\n",
    "\n",
    "print(\"Measure sequence of n {} for {} times\".format(n_list, trial))\n",
    "\n",
    "# Create a dictionary to save median computation time of functions above\n",
    "dic = dict([('a. recursive function', {}), ('b. for loop', {}), \n",
    "            ('c. while loop', {}), ('d. rounding method', {}), ('e. truncation method', {})])\n",
    "\n",
    "# fib_rec(n)\n",
    "for i in n_list:\n",
    "    t_rec = []\n",
    "    for j in range(trial):\n",
    "        start_rec = time.time()\n",
    "        fib_rec(i)\n",
    "        end_rec = time.time()\n",
    "        t_rec.append(end_rec - start_rec)\n",
    "    dic['a. recursive function'][i] = np.median(t_rec) * 1000\n",
    "\n",
    "# fib_for(n)\n",
    "for i in n_list:\n",
    "    t_for = []\n",
    "    for j in range(trial):\n",
    "        start_for = time.time()\n",
    "        fib_for(i)\n",
    "        end_for = time.time()\n",
    "        t_for.append(end_for - start_for)\n",
    "    dic['b. for loop'][i] = np.median(t_for) * 1000\n",
    "\n",
    "# fib_whl(n)\n",
    "for i in n_list:\n",
    "    t_whl = []\n",
    "    for j in range(trial):\n",
    "        start_whl = time.time()\n",
    "        fib_whl(i)\n",
    "        end_whl = time.time()\n",
    "        t_whl.append(end_whl - start_whl)\n",
    "    dic['c. while loop'][i] = np.median(t_whl) * 1000\n",
    "\n",
    "# fib_rnd(n)\n",
    "for i in n_list:\n",
    "    t_rnd = []\n",
    "    for j in range(trial):\n",
    "        start_rnd = time.time()\n",
    "        fib_rnd(i)\n",
    "        end_rnd = time.time()\n",
    "        t_rnd.append(end_rnd - start_rnd)\n",
    "    dic['d. rounding method'][i] = np.median(t_rnd) * 1000\n",
    "\n",
    "# fib_flr(n)\n",
    "for i in n_list:\n",
    "    t_flr = []\n",
    "    for j in range(trial):\n",
    "        start_rnd = time.time()\n",
    "        fib_flr(i)\n",
    "        end_rnd = time.time()\n",
    "        t_flr = end_rnd - start_rnd\n",
    "    dic['e. truncation method'][i] = np.median(t_flr) * 1000\n",
    "    \n",
    "# for i in n_list:\n",
    "#     dic[n_list[i]]['fastest'] = min(dic[n_list[i]], key=dic[n_list[i]].get)\n",
    "\n",
    "# Present results in a formatted table\n",
    "df_median = pd.DataFrame(dic)\n",
    "print('''\\nFormatted Table \n",
    "of median computation time of each of the functions (in ms) \n",
    "for a sequence of increasingly large values of n {}:\\n'''.format(n_list))\n",
    "# print(df_median)\n",
    "\n",
    "# Produce a formatted table using HTML \n",
    "dfmed_html = df_median.to_html()\n",
    "display(HTML(dfmed_html))"
   ]
  },
  {
   "cell_type": "markdown",
   "metadata": {},
   "source": [
    "## Question 2 - Pascal’s Triangle [20]"
   ]
  },
  {
   "cell_type": "markdown",
   "metadata": {},
   "source": [
    "<p><a href=\"https://en.wikipedia.org/wiki/Pascal%27s_triangle\">Pascal’s triangle</a> is a way to organize, compute, and present the Binomial coefficients <span class=\"math inline\">\\(n \\choose k\\)</span>. The triangle can be constructed from the top starting with rows 0 [<span class=\"math inline\">\\({0 \\choose 0} = 1\\)</span>], and 1 [<span class=\"math inline\">\\({1 \\choose 0} = 1\\)</span>, <span class=\"math inline\">\\({1 \\choose 1} = 1\\)</span>]. From there, subsequent rows can be computed by adding adjacent entries from the previous row (implicitly appending zeros on the left and right).</p>\n",
    "a. Write a function to compute a specified row of Pascal’s triangle. An arbitrary row of Pascal’s triangle can be computed efficiently by starting with <span class=\"math inline\">\\({n \\choose 0}\\)</span> =1 and then applying the following recurrence relation among binomial coefficients,\n",
    "<span class=\"math display\">\\[{n \\choose k} = {n \\choose k - 1} \\times \\frac{n + 1 - k}{k}.\\]</span></p>"
   ]
  },
  {
   "cell_type": "code",
   "execution_count": 8,
   "metadata": {
    "scrolled": true
   },
   "outputs": [
    {
     "name": "stdout",
     "output_type": "stream",
     "text": [
      "row: 10\n"
     ]
    },
    {
     "data": {
      "text/plain": [
       "[1, 10, 45, 120, 210, 252, 210, 120, 45, 10, 1]"
      ]
     },
     "execution_count": 8,
     "metadata": {},
     "output_type": "execute_result"
    }
   ],
   "source": [
    "# a. Write a function to compute a specified row of Pascal’s triangle. Start from 0.\n",
    "\n",
    "def factorial(n):\n",
    "    \"\"\"\n",
    "    This function computes factorial of a number. \n",
    "\n",
    "    Parameters\n",
    "    ----------\n",
    "    n : int\n",
    "        The number to calculate the factorial.\n",
    "\n",
    "     Returns\n",
    "     -------\n",
    "     Value of factorial of a number.\n",
    "\n",
    "    \"\"\"\n",
    "    if n == 0 or n == 1:\n",
    "        return 1\n",
    "    else:\n",
    "        return (n * factorial(n-1))\n",
    "\n",
    "def binom(n, k):\n",
    "    \"\"\"\n",
    "    This function computes binomial coefficients. \n",
    "\n",
    "    Parameters\n",
    "    ----------\n",
    "    n : int\n",
    "        One of the index of a binomial coefficient.\n",
    "    k : int\n",
    "        The other index of the binomial coefficient.\n",
    "\n",
    "     Returns\n",
    "     -------\n",
    "     Value of binomial coefficients.\n",
    "\n",
    "    \"\"\"\n",
    "    return int(factorial(n) / (factorial(k) * factorial(n-k)))\n",
    "\n",
    "def pascal(n):\n",
    "    \"\"\"\n",
    "    This function computes a specified row of Pascal's triangle. \n",
    "\n",
    "    Parameters\n",
    "    ----------\n",
    "    n : int\n",
    "        The number gives which row to compute.\n",
    "\n",
    "     Returns\n",
    "     -------\n",
    "     A list contains numbers of a row of Pascal's triangle.\n",
    "\n",
    "    \"\"\"\n",
    "    # n = n - 1 # for starting from row 1\n",
    "    row_list = []\n",
    "    for i in range(n+1):\n",
    "        if i == 0:\n",
    "            row_list.append(1)\n",
    "        else:\n",
    "            row_list.append(int(binom(n, i-1) * ((n+1-i) / i)))\n",
    "    return row_list\n",
    "\n",
    "n_val = eval(input(\"row: \")) # Input value of n(row)\n",
    "pascal(n_val)"
   ]
  },
  {
   "cell_type": "markdown",
   "metadata": {},
   "source": [
    "b. Write a function for printing the first <span class=\"math inline\">\\(n\\)</span> rows of Pascal’s triangle using the conventional spacing with the numbers in each row staggered relative to adjacent rows. Use your function to display a minimum of 10 rows in your notebook."
   ]
  },
  {
   "cell_type": "code",
   "execution_count": 9,
   "metadata": {},
   "outputs": [
    {
     "name": "stdout",
     "output_type": "stream",
     "text": [
      "row number: 10\n",
      "                      1                      \n",
      "                    1   1                    \n",
      "                  1   2   1                  \n",
      "                1   3   3   1                \n",
      "              1   4   6   4   1              \n",
      "            1   5   10  10  5   1            \n",
      "          1   6   15  20  15  6   1          \n",
      "        1   7   21  35  35  21  7   1        \n",
      "      1   8   28  56  70  56  28  8   1      \n",
      "    1   9   36  84  126 126 84  36  9   1    \n",
      "  1   10  45  120 210 252 210 120 45  10  1  \n"
     ]
    }
   ],
   "source": [
    "# b. Write a function for printing the first n rows of Pascal’s triangle.\n",
    "# Using the conventional spacing with the numbers in each row staggered relative to adjacent rows.\n",
    "\n",
    "def pascal_triangle(n):\n",
    "    \"\"\"\n",
    "    This function print the first n rows of Pascal’s triangle. \n",
    "\n",
    "    Parameters\n",
    "    ----------\n",
    "    n : int\n",
    "        The number gives which rows to compute.\n",
    "\n",
    "     Returns\n",
    "     -------\n",
    "     A string displays in form of Pascal's triangle.\n",
    "\n",
    "    \"\"\"\n",
    "    a = pascal(n)\n",
    "    b = a[floor(len(a)/2)]\n",
    "    l = len(str(b))\n",
    "    width = (l+1)*(len(a)) + 1\n",
    "    for i in range(n+1):\n",
    "        s = ''\n",
    "        c = pascal(i)\n",
    "        for j in range(len(c)-1):\n",
    "            s = s + (str(c[j])+' '*(l-len(str(c[j]))+1))\n",
    "        s = s + str(c[-1])\n",
    "        print(s.center(width))\n",
    "\n",
    "n_val = eval(input(\"row number: \")) # Input value of n(row)\n",
    "pascal_triangle(n_val)\n",
    "\n",
    "\n",
    "# def pascal_space(n): \n",
    "#     for i in range(n+1):\n",
    "#         str_len = len(str(pascal(n+1))) - len(str(pascal(i)))\n",
    "#         print(' ' * int((str_len)/2), end = '')\n",
    "#         for j in range(len(pascal(i))):\n",
    "#             print(str(pascal(i)[j]) + '  ', end = '')\n",
    "#         print('')\n",
    "\n",
    "# def pascal_center(n):\n",
    "#     width = len(str(pascal(n+1)).replace(',', '  '))\n",
    "#     for i in range(n+1):\n",
    "#         row_str = str(pascal(i)).replace(',', '  ')\n",
    "#         row_str = row_str.replace('[', ' ')\n",
    "#         row_str = row_str.replace(']', ' ')\n",
    "#         print(row_str.center(width))\n",
    "\n",
    "# n_val = eval(input(\"row number: \")) # Input value of n(row)\n",
    "# print(\"\\nMethod 1.\")\n",
    "# pascal_triangle(n_val)\n",
    "# print(\"\\nMethod 2.\")\n",
    "# pascal_space(n_val)\n",
    "# print(\"\\nMethod 3.\")\n",
    "# pascal_center(n_val)"
   ]
  },
  {
   "cell_type": "markdown",
   "metadata": {},
   "source": [
    "## Question 3 - Statistics 101 [40]"
   ]
  },
  {
   "cell_type": "markdown",
   "metadata": {},
   "source": [
    "<p>In this question you will write functions to compute statistics providing point and interval estimates for common population parameters based on data. Parts a and below each ask you to write a function; each of those functions should default to returning a string of the form,</p>\n",
    "<p><span class=\"math display\">\\[\\hat{\\theta}\\textrm{ }[XX\\% CI: (\\hat{\\theta}_L, \\hat{\\theta}_U)],\\]</span></p>\n",
    "<p>where <span class=\"math inline\">\\(\\hat{\\theta}\\)</span> is the point estimate, <span class=\"math inline\">\\((\\hat{\\theta}_L, \\hat{\\theta}_U)\\)</span> is a an XX% confidence interval, and the confidence level <span class=\"math inline\">\\(XX\\)</span> is configurable using an input parameter.</p>\n",
    "<p>The format of this string should also be configurable using an input parameter. Define the function to return a dictionary with keys <code>est</code>, <code>lwr</code>, <code>upr</code>, and <code>level</code> when the function is called with the parameter controlling the format of the input string set to <code>None</code>.</p>\n",
    "<p>Your functions should accept the data as a 1d Numpy array or any object coercable to such an array using <code>np.array()</code> and raise an informative exception if not.</p>\n",
    "<p>In this question you may use any function from Numpy, but may only use Scipy for the distribution functions found in the <code>stats</code> library. Your functions should not rely on any other modules.</p>\n"
   ]
  },
  {
   "cell_type": "code",
   "execution_count": 10,
   "metadata": {},
   "outputs": [],
   "source": [
    "def out_form(est, lwr, upr, level, extent = None):\n",
    "    \"\"\"\n",
    "    This function print the first n rows of Pascal’s triangle. \n",
    "\n",
    "    Parameters\n",
    "    ----------\n",
    "    est : int\n",
    "        The mean.\n",
    "    lwr : int\n",
    "        The lower bound.\n",
    "    upr : int\n",
    "        The upper bound.\n",
    "    level : int\n",
    "        The confidence level.\n",
    "    extent : None Type\n",
    "        The parameter controlling the format of the input string.\n",
    "\n",
    "     Returns\n",
    "     -------\n",
    "     A dictionary with keys est, lwr, upr, and level, \n",
    "     or a string of the form \"mean [XX% CI: (lwr, upr)]\" by default.\n",
    "\n",
    "    \"\"\"\n",
    "    conf_dict = {\"est\": est, \"lwr\": lwr, \"upr\": upr, \"level\": level}\n",
    "    if extent == None:\n",
    "        return conf_dict\n",
    "    return (\"{est}[{level}%CI:({lwr}, {upr})]\".\n",
    "            format(est = conf_dict[\"est\"], \n",
    "                   level = conf_dict[\"level\"], \n",
    "                   lwr = conf_dict[\"lwr\"], \n",
    "                   upr = conf_dict[\"upr\"]))\n",
    "\n",
    "def norm_quantile(level):\n",
    "    \"\"\"\n",
    "    This function computes value of z. \n",
    "\n",
    "    Parameters\n",
    "    ----------\n",
    "    level : int\n",
    "        The confidence level.\n",
    "\n",
    "     Returns\n",
    "     -------\n",
    "     Value of z.\n",
    "\n",
    "    \"\"\"\n",
    "    from scipy.stats import norm\n",
    "    level = level/100\n",
    "    alpha = 1 - level\n",
    "    # z_val = round(norm.ppf(1 - alpha/2), 2)\n",
    "    z_val = norm.ppf(1 - alpha/2)\n",
    "    return z_val"
   ]
  },
  {
   "cell_type": "markdown",
   "metadata": {},
   "source": [
    "a. The standard point and interval estimate for the populaiton mean based on Normal theory takes the form $\\bar x \\pm z \\times \\textrm{se}(x)$ where $\\bar x$ is the mean, $\\textrm{se}(x)$ is the standard error, and $z$ is a Gaussian multiplier that depends on the desired confidence level. Write a function to return a point and interval estimate for the mean based on these statistics.</p></li>\n"
   ]
  },
  {
   "cell_type": "code",
   "execution_count": 11,
   "metadata": {
    "scrolled": true
   },
   "outputs": [],
   "source": [
    "# a. Write a function to return a point and interval estimate for the mean based on these statistics.\n",
    "\n",
    "def pni_estimate(arr, level, return_type = None):\n",
    "        \n",
    "    \"\"\"\n",
    "    This function computes a point and interval estimate. \n",
    "\n",
    "    Parameters\n",
    "    ----------\n",
    "    arr : array list\n",
    "        The array list contains data for computation.\n",
    "    level : int\n",
    "        The confidence level.\n",
    "    return_type: None type\n",
    "        The type of return.\n",
    "\n",
    "     Returns\n",
    "     -------\n",
    "     A point and interval estimate for the mean based on these statistics.\n",
    "\n",
    "    \"\"\"    \n",
    "    try:\n",
    "        np.array(arr)\n",
    "    except ValueError:\n",
    "        print('''Invaild input, please input an 1d Numpy array \n",
    "              or any object coercable to such an array''')\n",
    "        return None\n",
    "\n",
    "    se = np.std(arr, ddof = 1) / np.sqrt(len(arr))\n",
    "    z = norm_quantile(level)\n",
    "    upr = np.mean(arr) + z * se\n",
    "    lwr = np.mean(arr) - z * se\n",
    "    \n",
    "    est = np.mean(arr)\n",
    "    return out_form(est, lwr, upr, level, return_type)\n",
    "\n",
    "# pni_estimate(arr, 95, type('string'))"
   ]
  },
  {
   "cell_type": "markdown",
   "metadata": {},
   "source": [
    "b. There are a number of methods for computing a <a href=\"https://en.wikipedia.org/wiki/Binomial_proportion_confidence_interval\">confidence interval</a> for a population proportion arising from a Binomial experiment consisting of $n$ independent and identically distributed (iid) Bernoulli trials. Let $x$ be the number of successes in thes trials. In this question you will write a function to return point and interval estimates based on several of these methods. Your function should have a parameter `method` that controls the method used. Include functionality for each of the following methods."
   ]
  },
  {
   "cell_type": "code",
   "execution_count": 12,
   "metadata": {},
   "outputs": [],
   "source": [
    "# b. Write a function to return point and interval estimates based on several of these methods.\n",
    "# total n trials， with x(n_s) success trials.\n",
    "\n",
    "def conf_int(method, arr, level, ones_num, return_type = None):\n",
    "    \n",
    "    \"\"\"\n",
    "    This function computes point and interval estimates. \n",
    "\n",
    "    Parameters\n",
    "    ----------\n",
    "    method: int\n",
    "        Determine which method to use.\n",
    "    arr : array list\n",
    "        The array list contains data for computation.\n",
    "    level : int\n",
    "        The confidence level.\n",
    "    ones_num: int\n",
    "        The number of 1 (success).\n",
    "    return_type: None type\n",
    "        The type of return.\n",
    "\n",
    "     Returns\n",
    "     -------\n",
    "     Point and interval estimates based on several of methods.\n",
    "\n",
    "    \"\"\"    \n",
    "    try:\n",
    "        np.array(arr)\n",
    "    except ValueError:\n",
    "        # please input an 1d Numpy array or any object coercable to such an array\n",
    "        print(\"Invaild input.\")\n",
    "        return None\n",
    "    \n",
    "    n = len(arr)\n",
    "    n_s = ones_num\n",
    "    z  = norm_quantile(level)\n",
    "    alpha_val = 1 - level/100\n",
    "    est = np.mean(arr)\n",
    "\n",
    "    # The standard point and interval estimates for a population parameter\n",
    "    if method == 1:\n",
    "        \n",
    "        p_hat = n_s/n # Calculate p hat\n",
    "        \n",
    "        upr = p_hat + z * np.sqrt(p_hat * (1-p_hat)/n)\n",
    "        lwr = p_hat - z * np.sqrt(p_hat * (1-p_hat)/n)\n",
    "        \n",
    "        # ⋀, a⋁b=max(a,b), a⋀b=min(a,b)\n",
    "        comp = min((n*p_hat), n*(1-p_hat))\n",
    "        if comp <= 12:\n",
    "            print(\"Warning: this condition is not satisfied!\")\n",
    "            \n",
    "        return out_form(est, lwr, upr, level, return_type)\n",
    "        \n",
    "    # The Clopper-Pearson interval for a population proportion\n",
    "    elif method == 2:\n",
    "        \n",
    "        lwr = beta.ppf((alpha_val/2), n_s, (n-n_s+1))\n",
    "        upr = beta.ppf((1-alpha_val/2),( n_s+1), (n-n_s))\n",
    "        \n",
    "        return out_form(est, lwr, upr, level, return_type)\n",
    "        \n",
    "    # The Jeffrey’s interval is a Bayesian credible interval with good frequentist properties.\n",
    "    elif method == 3:\n",
    "        \n",
    "        # a⋁b=max(a,b), a⋀b=min(a,b)\n",
    "        lwr_beta = beta.ppf((alpha_val/2), (n_s+0.5), (n-n_s+0.5))\n",
    "        upr_beta = beta.ppf((1 - alpha_val/2),(n_s+0.5), (n-n_s+0.5))\n",
    "        lwr = max(0, lwr_beta)\n",
    "        upr = min(upr_beta, 1)\n",
    "        \n",
    "        return out_form(est, lwr, upr, level, return_type)\n",
    "        \n",
    "    #  The Agresti-Coull interval.\n",
    "    elif method == 4:\n",
    "\n",
    "        n_tilde = n + z**2\n",
    "        p_tilde = (n_s + z**2/2) / n_tilde\n",
    "        \n",
    "        upr = p_tilde + z * np.sqrt(p_tilde * (1 - p_tilde) / n_tilde)\n",
    "        lwr = p_tilde - z * np.sqrt(p_tilde * (1 - p_tilde) / n_tilde)\n",
    "        \n",
    "        return out_form(est, lwr, upr, level, return_type)\n",
    "        \n",
    "    else:\n",
    "        print(\"Please choose a method.\")\n",
    "        \n",
    "\n",
    "# print(len(arr))\n",
    "# level = int(input(\"Confidential level (ie. 90, 95, 99): \"))\n",
    "# method_no = int(input(\"Please choose a method: \"))\n",
    "# conf_int(method_no , arr, level, 42, type(1))"
   ]
  },
  {
   "cell_type": "markdown",
   "metadata": {},
   "source": [
    "c. Create a 1d Numpy array with 42 ones and 48 zeros. Construct a nicely formatted table comparing 90, 95, and 99% confidence intervals using each of the methods above (including part a) on this data. Choose the number of decimals to display carefully to emphasize differences. For each confidence level, which method produces the interval with the smallest width?"
   ]
  },
  {
   "cell_type": "code",
   "execution_count": 15,
   "metadata": {},
   "outputs": [
    {
     "name": "stdout",
     "output_type": "stream",
     "text": [
      "Formatted table: comparing 3 confidence intervals using 5 methods above\n"
     ]
    },
    {
     "data": {
      "text/html": [
       "<table border=\"1\" class=\"dataframe\">\n",
       "  <thead>\n",
       "    <tr style=\"text-align: right;\">\n",
       "      <th></th>\n",
       "      <th>90% confidence interval</th>\n",
       "      <th>95% confidence interval</th>\n",
       "      <th>99% confidence interval</th>\n",
       "    </tr>\n",
       "  </thead>\n",
       "  <tbody>\n",
       "    <tr>\n",
       "      <th>Normal</th>\n",
       "      <td>(0.33045, 0.60288)</td>\n",
       "      <td>(0.33045, 0.60288)</td>\n",
       "      <td>(0.33045, 0.60288)</td>\n",
       "    </tr>\n",
       "    <tr>\n",
       "      <th>Binomial</th>\n",
       "      <td>(0.33121, 0.60212)</td>\n",
       "      <td>(0.33121, 0.60212)</td>\n",
       "      <td>(0.33121, 0.60212)</td>\n",
       "    </tr>\n",
       "    <tr>\n",
       "      <th>Clopper-Pearson</th>\n",
       "      <td>(0.33057, 0.60639)</td>\n",
       "      <td>(0.33057, 0.60639)</td>\n",
       "      <td>(0.33057, 0.60639)</td>\n",
       "    </tr>\n",
       "    <tr>\n",
       "      <th>Jeffrey’s</th>\n",
       "      <td>(0.33573, 0.60103)</td>\n",
       "      <td>(0.33573, 0.60103)</td>\n",
       "      <td>(0.33573, 0.60103)</td>\n",
       "    </tr>\n",
       "    <tr>\n",
       "      <th>Agresti-Coull</th>\n",
       "      <td>(0.33819, 0.59972)</td>\n",
       "      <td>(0.33819, 0.59972)</td>\n",
       "      <td>(0.33819, 0.59972)</td>\n",
       "    </tr>\n",
       "    <tr>\n",
       "      <th>smallest width</th>\n",
       "      <td>Agresti-Coull</td>\n",
       "      <td>Agresti-Coull</td>\n",
       "      <td>Agresti-Coull</td>\n",
       "    </tr>\n",
       "  </tbody>\n",
       "</table>"
      ],
      "text/plain": [
       "<IPython.core.display.HTML object>"
      ]
     },
     "metadata": {},
     "output_type": "display_data"
    }
   ],
   "source": [
    "# c. Create a 1d Numpy array with 42 ones and 48 zeros.\n",
    "# Construct a formatted table comparing 90, 95, and 99% confidence intervals using each of the methods above on this data.\n",
    "# For each confidence level, which method produces the interval with the smallest width?\n",
    "\n",
    "# create 0 & 1 array\n",
    "o_list = np.ones(42)\n",
    "z_list = np.zeros(48)\n",
    "zo_list = np.append(z_list, o_list)\n",
    "arr = np.array(zo_list)\n",
    "\n",
    "level_list = [90, 95, 99]\n",
    "method_list = [1, 2, 3, 4]\n",
    "conf_list = ['90% confidence interval', '95% confidence interval', '99% confidence interval']\n",
    "\n",
    "interval_list = {'90% confidence interval': {}, \n",
    "                 '95% confidence interval': {}, '99% confidence interval': {}}\n",
    "width_list = {'90% confidence interval': {}, \n",
    "                 '95% confidence interval': {}, '99% confidence interval': {}}\n",
    "\n",
    "met = [\"Normal\", \"Binomial\", \"Clopper-Pearson\", \"Jeffrey’s\", \"Agresti-Coull\"]\n",
    "\n",
    "# Use the function defined in (a) to find intervals\n",
    "# Add intervals to dictionary interval_list\n",
    "for i in level_list:\n",
    "    for j in conf_list:\n",
    "        temp = pni_estimate(arr, i)\n",
    "        interval_list[j][met[0]] = (round(temp['lwr'], 5), round(temp['upr'], 5))\n",
    "        width = temp['upr'] - temp['lwr']\n",
    "        width_list[j][met[0]] = width\n",
    "\n",
    "# Use functions defined in (b) to find intervals\n",
    "# Add intervals to dictionary interval_list\n",
    "for i in method_list:\n",
    "    for j in level_list:\n",
    "        for k in conf_list:\n",
    "            temp = conf_int(i, arr, j, 42)\n",
    "            interval_list[k][met[i]] = (round(temp['lwr'], 5), round(temp['upr'], 5))\n",
    "            width = temp['upr'] - temp['lwr']\n",
    "            width_list[k][met[i]] = width\n",
    "\n",
    "# Find the method that produces interval with the smallest width\n",
    "# Add smallest intervals to dictionary width_list\n",
    "for i in conf_list:\n",
    "    interval_list[str(i)]['smallest width'] = min(width_list[str(i)], \n",
    "                                                  key=width_list[str(i)].get)\n",
    "\n",
    "# Construct formatted table comparing 3 confidence intervals using 5 methods\n",
    "print(\"Formatted table: comparing 3 confidence intervals using 5 methods above\")\n",
    "df_inte = pd.DataFrame(interval_list)\n",
    "# print(df_inte)\n",
    "\n",
    "# Produce a formatted table using HTML \n",
    "dfinte_html = df_inte.to_html()\n",
    "display(HTML(dfinte_html))"
   ]
  }
 ],
 "metadata": {
  "kernelspec": {
   "display_name": "Python 3",
   "language": "python",
   "name": "python3"
  },
  "language_info": {
   "codemirror_mode": {
    "name": "ipython",
    "version": 3
   },
   "file_extension": ".py",
   "mimetype": "text/x-python",
   "name": "python",
   "nbconvert_exporter": "python",
   "pygments_lexer": "ipython3",
   "version": "3.8.8"
  }
 },
 "nbformat": 4,
 "nbformat_minor": 4
}
